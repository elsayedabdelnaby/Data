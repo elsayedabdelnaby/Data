{
 "cells": [
  {
   "cell_type": "code",
   "execution_count": 7,
   "id": "9fe9fc79",
   "metadata": {},
   "outputs": [],
   "source": [
    "import os\n",
    "import shutil\n",
    "import random\n",
    "import math\n",
    "\n",
    "def remove_half_files(base_path, files):\n",
    "    \"\"\"\n",
    "    Tak the base path of the folder and files,\n",
    "    then remove half of files which exists on this path\n",
    "    \"\"\"\n",
    "    removed_files = random.sample(files, math.ceil(len(files)/2))\n",
    "    for file in removed_files:\n",
    "        os.remove(base_path + '/' + file)\n",
    "        files.remove(file)\n",
    "\n",
    "#make a copy from all files which exists on universe folder\n",
    "files = os.listdir(\"universe/\")\n",
    "for file in files:\n",
    "    shutil.copy(\"./universe/\" + file, \"./backup/\")\n",
    "\n",
    "#remove all files from universe folder\n",
    "while len(files):\n",
    "    remove_half_files(\"./universe\", files)\n",
    "\n",
    "#move all files from backup to universe again\n",
    "backup_files = os.listdir(\"backup/\")\n",
    "for file in backup_files:\n",
    "    shutil.copy(\"./backup/\" + file, \"./universe/\")\n",
    "\n",
    "os.mkdir('new_folder')\n",
    "for file in backup_files:\n",
    "    shutil.move(\"./backup/\" + file, \"./new_folder/\", )\n"
   ]
  },
  {
   "cell_type": "code",
   "execution_count": 8,
   "id": "c3203584",
   "metadata": {},
   "outputs": [
    {
     "ename": "NameError",
     "evalue": "name 'requests' is not defined",
     "output_type": "error",
     "traceback": [
      "\u001b[1;31m---------------------------------------------------------------------------\u001b[0m",
      "\u001b[1;31mNameError\u001b[0m                                 Traceback (most recent call last)",
      "Cell \u001b[1;32mIn[8], line 2\u001b[0m\n\u001b[0;32m      1\u001b[0m url \u001b[38;5;241m=\u001b[39m \u001b[38;5;124m\"\u001b[39m\u001b[38;5;124mhttps://books.toscrape.com/catalogue/category/books/mystery_3/index.html\u001b[39m\u001b[38;5;124m\"\u001b[39m\n\u001b[1;32m----> 2\u001b[0m data \u001b[38;5;241m=\u001b[39m requests\u001b[38;5;241m.\u001b[39mget(url)\n\u001b[0;32m      3\u001b[0m \u001b[38;5;28mprint\u001b[39m(data)\n",
      "\u001b[1;31mNameError\u001b[0m: name 'requests' is not defined"
     ]
    }
   ],
   "source": []
  }
 ],
 "metadata": {
  "kernelspec": {
   "display_name": "Python 3 (ipykernel)",
   "language": "python",
   "name": "python3"
  },
  "language_info": {
   "codemirror_mode": {
    "name": "ipython",
    "version": 3
   },
   "file_extension": ".py",
   "mimetype": "text/x-python",
   "name": "python",
   "nbconvert_exporter": "python",
   "pygments_lexer": "ipython3",
   "version": "3.12.3"
  }
 },
 "nbformat": 4,
 "nbformat_minor": 5
}
