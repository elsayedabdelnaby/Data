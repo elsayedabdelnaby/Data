{
 "cells": [
  {
   "cell_type": "code",
   "execution_count": 1,
   "metadata": {},
   "outputs": [],
   "source": [
    "import csv\n",
    "import requests\n",
    "from bs4 import BeautifulSoup"
   ]
  },
  {
   "cell_type": "code",
   "execution_count": 3,
   "metadata": {},
   "outputs": [],
   "source": [
    "response = requests.get('https://ocw.mit.edu/courses/electrical-engineering-and-computer-science/6-006-introduction-to-algorithms-spring-2020/lecture-videos/#')\n"
   ]
  },
  {
   "cell_type": "code",
   "execution_count": 6,
   "metadata": {},
   "outputs": [],
   "source": [
    "# Get The Soup\n",
    "soup = BeautifulSoup(response.text, \"html.parser\")"
   ]
  },
  {
   "cell_type": "code",
   "execution_count": 10,
   "metadata": {},
   "outputs": [
    {
     "name": "stdout",
     "output_type": "stream",
     "text": [
      "<div class=\"resource-item resource-list-page\">\n",
      "<div class=\"row\">\n",
      "<div class=\"d-inline-flex\">\n",
      "<a aria-label=\"Download file\" class=\"resource-thumbnail\" download=\"\" href=\"https://archive.org/download/MIT6.006S20/MIT6_006S20_02_04_Lecture_1_300k.mp4\" target=\"_blank\">\n",
      "<div class=\"resource-type-thumbnail video\">\n",
      "<div class=\"d-flex align-self-center\">video</div>\n",
      "</div>\n",
      "<div class=\"download-container\">\n",
      "<span class=\"download-link\">\n",
      "<img aria-hidden=\"true\" class=\"hide-offline resources-download\" src=\"/static_shared/images/resource-download.dab02d010ffdeffef264.svg\"/>\n",
      "</span>\n",
      "<div class=\"resource-list-file-size\">\n",
      "                102 MB\n",
      "              </div>\n",
      "</div>\n",
      "</a>\n",
      "<div class=\"resource-list-item-details\">\n",
      "<a class=\"resource-list-title\" href=\"/courses/6-006-introduction-to-algorithms-spring-2020/resources/lecture-1-algorithms-and-computation/\">Lecture 1: Algorithms and Computation</a>\n",
      "</div>\n",
      "</div>\n",
      "</div>\n",
      "</div>\n"
     ]
    }
   ],
   "source": [
    "# Find An element to get course container\n",
    "course_section = soup.find(\"div\", attrs={\"id\": \"main-course-section\"})\n",
    "course_item = course_section.find(\"div\", attrs={\"class\": \"resource-item resource-list-page\"})\n",
    "course_item"
   ]
  },
  {
   "cell_type": "code",
   "execution_count": 12,
   "metadata": {},
   "outputs": [
    {
     "name": "stdout",
     "output_type": "stream",
     "text": [
      "Lecture 1: Algorithms and Computation\n"
     ]
    }
   ],
   "source": [
    "# Find the course name\n",
    "course_title = course_item.find(\"a\", attrs={\"class\": \"resource-list-title\"})\n",
    "course_title.text"
   ]
  },
  {
   "cell_type": "code",
   "execution_count": 13,
   "metadata": {},
   "outputs": [
    {
     "data": {
      "text/plain": [
       "'Introduction to Algorithms.csv'"
      ]
     },
     "execution_count": 13,
     "metadata": {},
     "output_type": "execute_result"
    }
   ],
   "source": [
    "file_name = soup.find('title').get_text().split(' | ')[1]\n",
    "file_name += '.csv'\n",
    "file_name"
   ]
  },
  {
   "cell_type": "code",
   "execution_count": 16,
   "metadata": {},
   "outputs": [
    {
     "data": {
      "text/plain": [
       "'/courses/6-006-introduction-to-algorithms-spring-2020/resources/lecture-1-algorithms-and-computation/'"
      ]
     },
     "execution_count": 16,
     "metadata": {},
     "output_type": "execute_result"
    }
   ],
   "source": [
    "# Find the course link\n",
    "course_title.attrs['href']"
   ]
  },
  {
   "cell_type": "code",
   "execution_count": 17,
   "metadata": {},
   "outputs": [],
   "source": [
    "with open(file_name, mode='w', encoding='utf-8') as csv_file:\n",
    "    fieldnames = ['video_name', 'video_url']\n",
    "    # write the dict writer instance\n",
    "    writer = csv.DictWriter(csv_file, fieldnames)\n",
    "    writer.writeheader()\n",
    "    courses_items = course_section.find_all(\"div\", attrs={\"class\": \"resource-item resource-list-page\"})\n",
    "    for a in course_item:\n",
    "        title = course_item.find(\"a\", attrs={\"class\": \"resource-list-title\"})\n",
    "        video_name = title.text\n",
    "        video_url = 'https://ocw.mit.edu' + title.attrs['href']\n",
    "        writer.writerow({'video_name': video_name, 'video_url': video_url})"
   ]
  },
  {
   "cell_type": "code",
   "execution_count": 18,
   "metadata": {},
   "outputs": [],
   "source": [
    "import pandas as pd"
   ]
  },
  {
   "cell_type": "code",
   "execution_count": 19,
   "metadata": {},
   "outputs": [
    {
     "data": {
      "text/html": [
       "<div>\n",
       "<style scoped>\n",
       "    .dataframe tbody tr th:only-of-type {\n",
       "        vertical-align: middle;\n",
       "    }\n",
       "\n",
       "    .dataframe tbody tr th {\n",
       "        vertical-align: top;\n",
       "    }\n",
       "\n",
       "    .dataframe thead th {\n",
       "        text-align: right;\n",
       "    }\n",
       "</style>\n",
       "<table border=\"1\" class=\"dataframe\">\n",
       "  <thead>\n",
       "    <tr style=\"text-align: right;\">\n",
       "      <th></th>\n",
       "      <th>video_name</th>\n",
       "      <th>video_url</th>\n",
       "    </tr>\n",
       "  </thead>\n",
       "  <tbody>\n",
       "    <tr>\n",
       "      <th>0</th>\n",
       "      <td>Lecture 1: Algorithms and Computation</td>\n",
       "      <td>https://ocw.mit.edu/courses/6-006-introduction...</td>\n",
       "    </tr>\n",
       "    <tr>\n",
       "      <th>1</th>\n",
       "      <td>Lecture 1: Algorithms and Computation</td>\n",
       "      <td>https://ocw.mit.edu/courses/6-006-introduction...</td>\n",
       "    </tr>\n",
       "    <tr>\n",
       "      <th>2</th>\n",
       "      <td>Lecture 1: Algorithms and Computation</td>\n",
       "      <td>https://ocw.mit.edu/courses/6-006-introduction...</td>\n",
       "    </tr>\n",
       "  </tbody>\n",
       "</table>\n",
       "</div>"
      ],
      "text/plain": [
       "                              video_name  \\\n",
       "0  Lecture 1: Algorithms and Computation   \n",
       "1  Lecture 1: Algorithms and Computation   \n",
       "2  Lecture 1: Algorithms and Computation   \n",
       "\n",
       "                                           video_url  \n",
       "0  https://ocw.mit.edu/courses/6-006-introduction...  \n",
       "1  https://ocw.mit.edu/courses/6-006-introduction...  \n",
       "2  https://ocw.mit.edu/courses/6-006-introduction...  "
      ]
     },
     "execution_count": 19,
     "metadata": {},
     "output_type": "execute_result"
    }
   ],
   "source": [
    "data = pd.read_csv(\"./Introduction to Algorithms.csv\")\n",
    "data"
   ]
  },
  {
   "cell_type": "code",
   "execution_count": 20,
   "metadata": {},
   "outputs": [
    {
     "data": {
      "text/html": [
       "<div>\n",
       "<style scoped>\n",
       "    .dataframe tbody tr th:only-of-type {\n",
       "        vertical-align: middle;\n",
       "    }\n",
       "\n",
       "    .dataframe tbody tr th {\n",
       "        vertical-align: top;\n",
       "    }\n",
       "\n",
       "    .dataframe thead th {\n",
       "        text-align: right;\n",
       "    }\n",
       "</style>\n",
       "<table border=\"1\" class=\"dataframe\">\n",
       "  <thead>\n",
       "    <tr style=\"text-align: right;\">\n",
       "      <th></th>\n",
       "      <th>video_name</th>\n",
       "      <th>video_url</th>\n",
       "    </tr>\n",
       "  </thead>\n",
       "  <tbody>\n",
       "    <tr>\n",
       "      <th>0</th>\n",
       "      <td>Lecture 1: Algorithms and Computation</td>\n",
       "      <td>https://ocw.mit.edu/courses/6-006-introduction...</td>\n",
       "    </tr>\n",
       "    <tr>\n",
       "      <th>1</th>\n",
       "      <td>Lecture 1: Algorithms and Computation</td>\n",
       "      <td>https://ocw.mit.edu/courses/6-006-introduction...</td>\n",
       "    </tr>\n",
       "    <tr>\n",
       "      <th>2</th>\n",
       "      <td>Lecture 1: Algorithms and Computation</td>\n",
       "      <td>https://ocw.mit.edu/courses/6-006-introduction...</td>\n",
       "    </tr>\n",
       "  </tbody>\n",
       "</table>\n",
       "</div>"
      ],
      "text/plain": [
       "                              video_name  \\\n",
       "0  Lecture 1: Algorithms and Computation   \n",
       "1  Lecture 1: Algorithms and Computation   \n",
       "2  Lecture 1: Algorithms and Computation   \n",
       "\n",
       "                                           video_url  \n",
       "0  https://ocw.mit.edu/courses/6-006-introduction...  \n",
       "1  https://ocw.mit.edu/courses/6-006-introduction...  \n",
       "2  https://ocw.mit.edu/courses/6-006-introduction...  "
      ]
     },
     "execution_count": 20,
     "metadata": {},
     "output_type": "execute_result"
    }
   ],
   "source": [
    "# Read first 9 rows\n",
    "data.head(9)"
   ]
  },
  {
   "cell_type": "code",
   "execution_count": 21,
   "metadata": {},
   "outputs": [
    {
     "data": {
      "text/html": [
       "<div>\n",
       "<style scoped>\n",
       "    .dataframe tbody tr th:only-of-type {\n",
       "        vertical-align: middle;\n",
       "    }\n",
       "\n",
       "    .dataframe tbody tr th {\n",
       "        vertical-align: top;\n",
       "    }\n",
       "\n",
       "    .dataframe thead th {\n",
       "        text-align: right;\n",
       "    }\n",
       "</style>\n",
       "<table border=\"1\" class=\"dataframe\">\n",
       "  <thead>\n",
       "    <tr style=\"text-align: right;\">\n",
       "      <th></th>\n",
       "      <th>video_name</th>\n",
       "      <th>video_url</th>\n",
       "    </tr>\n",
       "  </thead>\n",
       "  <tbody>\n",
       "    <tr>\n",
       "      <th>0</th>\n",
       "      <td>Lecture 1: Algorithms and Computation</td>\n",
       "      <td>https://ocw.mit.edu/courses/6-006-introduction...</td>\n",
       "    </tr>\n",
       "    <tr>\n",
       "      <th>1</th>\n",
       "      <td>Lecture 1: Algorithms and Computation</td>\n",
       "      <td>https://ocw.mit.edu/courses/6-006-introduction...</td>\n",
       "    </tr>\n",
       "    <tr>\n",
       "      <th>2</th>\n",
       "      <td>Lecture 1: Algorithms and Computation</td>\n",
       "      <td>https://ocw.mit.edu/courses/6-006-introduction...</td>\n",
       "    </tr>\n",
       "  </tbody>\n",
       "</table>\n",
       "</div>"
      ],
      "text/plain": [
       "                              video_name  \\\n",
       "0  Lecture 1: Algorithms and Computation   \n",
       "1  Lecture 1: Algorithms and Computation   \n",
       "2  Lecture 1: Algorithms and Computation   \n",
       "\n",
       "                                           video_url  \n",
       "0  https://ocw.mit.edu/courses/6-006-introduction...  \n",
       "1  https://ocw.mit.edu/courses/6-006-introduction...  \n",
       "2  https://ocw.mit.edu/courses/6-006-introduction...  "
      ]
     },
     "execution_count": 21,
     "metadata": {},
     "output_type": "execute_result"
    }
   ],
   "source": [
    "# Read last 9 rows\n",
    "data.tail(9)"
   ]
  }
 ],
 "metadata": {
  "kernelspec": {
   "display_name": "Python 3 (ipykernel)",
   "language": "python",
   "name": "python3"
  },
  "language_info": {
   "codemirror_mode": {
    "name": "ipython",
    "version": 3
   },
   "file_extension": ".py",
   "mimetype": "text/x-python",
   "name": "python",
   "nbconvert_exporter": "python",
   "pygments_lexer": "ipython3",
   "version": "3.12.3"
  }
 },
 "nbformat": 4,
 "nbformat_minor": 4
}
